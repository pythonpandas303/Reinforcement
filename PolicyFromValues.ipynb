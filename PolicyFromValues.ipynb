{
 "cells": [
  {
   "cell_type": "code",
   "execution_count": 1,
   "metadata": {},
   "outputs": [],
   "source": [
    "from rlgridworld.standard_grid import create_standard_grid\n",
    "from rlgridworld.algorithms import iterative_policy_evaluation"
   ]
  },
  {
   "cell_type": "code",
   "execution_count": 2,
   "metadata": {},
   "outputs": [],
   "source": [
    "gw = create_standard_grid()"
   ]
  },
  {
   "cell_type": "code",
   "execution_count": 3,
   "metadata": {},
   "outputs": [
    {
     "name": "stdout",
     "output_type": "stream",
     "text": [
      "Input Policy\n",
      "-------------------------------------\n",
      "|  Right |  Right |  Right |        |\n",
      "-------------------------------------\n",
      "|     Up |        |  Right |        |\n",
      "-------------------------------------\n",
      "|     Up |  Right |  Right |     Up |\n",
      "-------------------------------------\n"
     ]
    }
   ],
   "source": [
    "policy = { \n",
    "    (0,0):'up', (0,1):'right',(0,2):'right',(0,3):'up',\n",
    "    (1,0):'up', (1,1):'', (1,2):'right', (1,3):'',\n",
    "    (2,0):'right', (2,1):'right', (2,2):'right', (2,3):''\n",
    "    }\n",
    "print(\"Input Policy\")\n",
    "gw.print_policy(policy)"
   ]
  },
  {
   "cell_type": "markdown",
   "metadata": {},
   "source": [
    "Perform iterative policy evaluation to compute values for the policy"
   ]
  },
  {
   "cell_type": "code",
   "execution_count": 4,
   "metadata": {},
   "outputs": [],
   "source": [
    "iterative_policy_evaluation(gw, policy, gamma = 0.9)"
   ]
  },
  {
   "cell_type": "code",
   "execution_count": 5,
   "metadata": {},
   "outputs": [
    {
     "name": "stdout",
     "output_type": "stream",
     "text": [
      "Values for the input policy\n",
      "-------------------------------------\n",
      "|   0.81 |   0.90 |   1.00 |   0.00 |\n",
      "-------------------------------------\n",
      "|   0.73 |   0.00 |  -1.00 |   0.00 |\n",
      "-------------------------------------\n",
      "|   0.66 |  -0.81 |  -0.90 |  -1.00 |\n",
      "-------------------------------------\n"
     ]
    }
   ],
   "source": [
    "print(\"Values for the input policy\")\n",
    "gw.print_values()"
   ]
  },
  {
   "cell_type": "markdown",
   "metadata": {},
   "source": [
    "The function below takes the values in the grid and finds the cooresponding policy"
   ]
  },
  {
   "cell_type": "code",
   "execution_count": 6,
   "metadata": {},
   "outputs": [],
   "source": [
    "def compute_policy_from_values(gw, gamma = 0.9):\n",
    "    # create null policy dictionary\n",
    "    policy = {}\n",
    "    # loop over all states\n",
    "    for i in range(gw.M):\n",
    "        for j in range(gw.N):\n",
    "            state = (i,j)\n",
    "            # assign 'no' policy to barrier states, there are no actions at barrier states\n",
    "            if gw.is_barrier(state):\n",
    "                policy[state] = ''\n",
    "            # assign 'no' policy to terminal sttes, there are no actions at terminal states \n",
    "            if gw.is_terminal(state):\n",
    "                policy[state] = ''\n",
    "            # for all non terminal and non barrier states\n",
    "            if not gw.is_terminal(state) and not gw.is_barrier(state):\n",
    "                # set candidate best action and best value\n",
    "                best_action = None\n",
    "                best_value = float('-inf')\n",
    "                # get dictionary of all valid decisions and rewards at current state (i,j)\n",
    "                dr = gw.valid_decisions_and_rewards(state)\n",
    "                # iterate over all action, reward in \n",
    "                for action, reward in dr.items():\n",
    "                    # get reward for current action\n",
    "                    reward = gw.get_reward_for_action(state,action)\n",
    "                    # get the value of the destination state for the current action\n",
    "                    value_at_dest = gw.get_value_at_destination(state,action)\n",
    "                    # compute candidate vale\n",
    "                    value = reward + gamma*value_at_dest\n",
    "                    # if value is better, then update best action and best value\n",
    "                    if value > best_value:\n",
    "                        best_value = value\n",
    "                        best_action = action\n",
    "                # add best action to the policy dictionary \n",
    "                policy[state] = best_action\n",
    "    return policy"
   ]
  },
  {
   "cell_type": "markdown",
   "metadata": {},
   "source": [
    "Find new policy given the updated values"
   ]
  },
  {
   "cell_type": "code",
   "execution_count": 7,
   "metadata": {},
   "outputs": [],
   "source": [
    "new_policy = compute_policy_from_values(gw)"
   ]
  },
  {
   "cell_type": "code",
   "execution_count": 8,
   "metadata": {},
   "outputs": [
    {
     "name": "stdout",
     "output_type": "stream",
     "text": [
      "Original Policy\n",
      "-------------------------------------\n",
      "|  Right |  Right |  Right |        |\n",
      "-------------------------------------\n",
      "|     Up |        |  Right |        |\n",
      "-------------------------------------\n",
      "|     Up |  Right |  Right |     Up |\n",
      "-------------------------------------\n",
      "\n",
      "New Policy\n",
      "-------------------------------------\n",
      "|  Right |  Right |  Right |        |\n",
      "-------------------------------------\n",
      "|     Up |        |     Up |        |\n",
      "-------------------------------------\n",
      "|     Up |   Left |   Left |   Left |\n",
      "-------------------------------------\n"
     ]
    }
   ],
   "source": [
    "print(\"Original Policy\")\n",
    "gw.print_policy(policy)\n",
    "print(\"\")\n",
    "print(\"New Policy\")\n",
    "gw.print_policy(new_policy)"
   ]
  },
  {
   "cell_type": "code",
   "execution_count": null,
   "metadata": {},
   "outputs": [],
   "source": []
  },
  {
   "cell_type": "code",
   "execution_count": null,
   "metadata": {},
   "outputs": [],
   "source": []
  }
 ],
 "metadata": {
  "kernelspec": {
   "display_name": "Python 3",
   "language": "python",
   "name": "python3"
  },
  "language_info": {
   "codemirror_mode": {
    "name": "ipython",
    "version": 3
   },
   "file_extension": ".py",
   "mimetype": "text/x-python",
   "name": "python",
   "nbconvert_exporter": "python",
   "pygments_lexer": "ipython3",
   "version": "3.8.12"
  }
 },
 "nbformat": 4,
 "nbformat_minor": 4
}
