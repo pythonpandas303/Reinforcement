{
 "cells": [
  {
   "cell_type": "markdown",
   "id": "641b9d8e",
   "metadata": {},
   "source": [
    "# OpenAI Gym CartPole Environment"
   ]
  },
  {
   "cell_type": "code",
   "execution_count": 1,
   "id": "806d8556",
   "metadata": {},
   "outputs": [
    {
     "data": {
      "text/plain": [
       "array([-0.03205588,  0.03058111, -0.03147831,  0.04583599], dtype=float32)"
      ]
     },
     "execution_count": 1,
     "metadata": {},
     "output_type": "execute_result"
    }
   ],
   "source": [
    "import random\n",
    "random.seed() # pseudo random number generator seed - here it is None\n",
    "# random.seed(1234) # pseudo random number generator seed - set value for repeatable pseudo random numbers\n",
    "import gym\n",
    "env = gym.make('CartPole-v0')\n",
    "env.reset()"
   ]
  },
  {
   "cell_type": "markdown",
   "id": "78db6e8f",
   "metadata": {},
   "source": [
    "#### Implement a Random Polilcy"
   ]
  },
  {
   "cell_type": "code",
   "execution_count": 2,
   "id": "918e565d",
   "metadata": {
    "tags": []
   },
   "outputs": [
    {
     "name": "stdout",
     "output_type": "stream",
     "text": [
      "[15, 48, 31, 17, 39, 19, 17, 21, 11, 14, 19, 62, 56, 20, 15, 12, 34, 17, 60, 23, 14, 19, 12, 14, 14, 27, 31, 29, 12, 14, 19, 13, 13, 60, 72, 17, 23, 42, 26, 29, 10, 14, 24, 34, 21, 17, 12, 13, 15, 17, 54, 14, 17, 16, 33, 20, 30, 26, 16, 17, 12, 24, 26, 57, 17, 17, 29, 15, 19, 35, 13, 24, 29, 35, 19, 21, 19, 20, 12, 26, 62, 42, 16, 17, 18, 43, 26, 10, 16, 44, 18, 24, 20, 25, 74, 19, 20, 18, 19, 29]\n",
      "Average number of steps: 24.99\n",
      "Min number of steps: 10\n",
      "Max number of steps: 74\n"
     ]
    }
   ],
   "source": [
    "env._max_episode_steps = 200 # default 200, override for what ever value desired\n",
    "num_iter = 100\n",
    "\n",
    "num_steps_list = []\n",
    "\n",
    "for j in range(num_iter):\n",
    "    obs = env.reset()\n",
    "    done = False\n",
    "    num_steps = 0\n",
    "    while not done:\n",
    "        a = random.randint(0,1)\n",
    "        obs, reward, done, _ = env.step(a) \n",
    "        # print(f\"{obs[0]}, {obs[1]}, {obs[2]}, {obs[3]}\")\n",
    "        num_steps += 1\n",
    "    num_steps_list.append(num_steps)     \n",
    "print(num_steps_list)     \n",
    "print(\"Average number of steps:\", sum(num_steps_list)/len(num_steps_list))\n",
    "print(\"Min number of steps:\", min(num_steps_list)) \n",
    "print(\"Max number of steps:\", max(num_steps_list))"
   ]
  },
  {
   "cell_type": "markdown",
   "id": "1c21da30",
   "metadata": {},
   "source": [
    "#### Implement a policy that alternatiely moves left and right using modulus function"
   ]
  },
  {
   "cell_type": "code",
   "execution_count": 3,
   "id": "4cb9eb1a",
   "metadata": {
    "tags": []
   },
   "outputs": [
    {
     "name": "stdout",
     "output_type": "stream",
     "text": [
      "[38, 36, 48, 74, 48, 28, 29, 24, 24, 24, 34, 37, 33, 21, 44, 37, 23, 36, 40, 29, 22, 22, 35, 30, 24, 39, 24, 59, 42, 29, 30, 32, 47, 26, 44, 32, 22, 32, 24, 30, 27, 28, 29, 38, 34, 24, 22, 45, 30, 26, 21, 87, 48, 26, 34, 85, 24, 35, 29, 23, 26, 20, 30, 43, 30, 50, 41, 71, 29, 26, 27, 28, 49, 22, 47, 28, 45, 22, 22, 29, 25, 34, 31, 21, 36, 54, 26, 79, 32, 20, 27, 36, 32, 32, 32, 42, 28, 46, 36, 39]\n",
      "Average number of steps: 34.6\n",
      "Min number of steps: 20\n",
      "Max number of steps: 87\n"
     ]
    }
   ],
   "source": [
    "env._max_episode_steps = 200 # default 200, override for what ever value desired\n",
    "num_iter = 100\n",
    "\n",
    "num_steps_list = []\n",
    "\n",
    "for _ in range(num_iter):\n",
    "    obs = env.reset()\n",
    "    done = False\n",
    "    num_steps = 0\n",
    "    while not done:\n",
    "        a = num_steps%2\n",
    "        obs, reward, done, _ = env.step(a) \n",
    "        #print(f\"{obs[0]}, {obs[1]}, {obs[2]}, {obs[3]}\")\n",
    "        num_steps += 1\n",
    "    num_steps_list.append(num_steps)\n",
    "        \n",
    "print(num_steps_list)     \n",
    "print(\"Average number of steps:\", sum(num_steps_list)/len(num_steps_list))\n",
    "print(\"Min number of steps:\", min(num_steps_list)) \n",
    "print(\"Max number of steps:\", max(num_steps_list))   "
   ]
  },
  {
   "cell_type": "markdown",
   "id": "c31eaa10",
   "metadata": {},
   "source": [
    "Let $a(s,w)$ be the action to take at state $s$. Let $w$ be a four-dimensional vector of random numbers. The inner product of $s$ with $w$ defines action as follows. If the inner produce is greater than 0 then action 1 otherwise action 0. \n",
    "\n",
    "$$\n",
    "a(s,w) = \\left\\{ \n",
    "    \\begin{array}{ll}\n",
    "    0 & \\textsf{\\small if } s \\cdot w \\leq 0 \\\\ \n",
    "    1 & \\textsf{\\small if } s \\cdot w > 0\n",
    "    \\end{array}\n",
    "\\right.\n",
    "$$ \n",
    "\n",
    "Below is the implementation of this function."
   ]
  },
  {
   "cell_type": "code",
   "execution_count": 4,
   "id": "94c39a5e",
   "metadata": {},
   "outputs": [],
   "source": [
    "def action(s, w):\n",
    "    if s.dot(w) > 0:\n",
    "        return 1\n",
    "    else:\n",
    "        return 0\n",
    "    \n",
    "# this function returns a random parameter vector     \n",
    "def get_params(): # generate four random numbers on the interval [-1.0, 1.0)\n",
    "    w = [2*random.random()-1, 2*random.random()-1, 2*random.random()-1, 2*random.random()-1]\n",
    "    return w"
   ]
  },
  {
   "cell_type": "markdown",
   "id": "f8a8ed7f",
   "metadata": {},
   "source": [
    "#### Implement the dot product with random weights policy"
   ]
  },
  {
   "cell_type": "code",
   "execution_count": 5,
   "id": "af0dfa0c",
   "metadata": {
    "tags": []
   },
   "outputs": [
    {
     "name": "stdout",
     "output_type": "stream",
     "text": [
      "0.030869458970770758 -0.8397563206086962 0.600522282843988 0.3511940878495676\n",
      "-0.03441986240081607 -0.21089638974322256 0.8569317211944907 0.983925085285829\n",
      "[8, 9, 8, 49, 10, 120, 9, 9, 32, 9, 215, 80, 256, 32, 46, 59, 59, 49, 9, 28, 10, 85, 67, 10, 87, 9, 119, 45, 2500, 10, 23, 9, 10, 59, 64, 175, 20, 9, 9, 8, 9, 10, 9, 8, 107, 9, 560, 108, 10, 9, 105, 10, 1923, 8, 111, 56, 32, 60, 31, 83, 124, 10, 75, 10, 156, 27, 86, 10, 337, 39, 8, 9, 10, 10, 9, 35, 41, 9, 10, 35, 8, 35, 42, 174, 9, 44, 9, 10, 73, 25, 8, 30, 9, 2500, 38, 30, 64, 9, 9, 11]\n",
      "Average number of steps: 118.69\n",
      "Min number of steps: 8\n",
      "Max number of steps: 2500\n"
     ]
    }
   ],
   "source": [
    "max_episode_steps = 2500\n",
    "env._max_episode_steps = max_episode_steps # default is 200, override for what ever value desired\n",
    "\n",
    "num_steps_list = []\n",
    "\n",
    "num_iter = 100\n",
    "for _ in range(num_iter):\n",
    "    obs = env.reset()\n",
    "    done = False\n",
    "    num_steps = 0\n",
    "    w = get_params()\n",
    "    while not done:\n",
    "        a = action(obs, w)\n",
    "        obs, reward, done, _ = env.step(a) \n",
    "        num_steps += 1\n",
    "        if num_steps == max_episode_steps:\n",
    "            print(w[0],w[1],w[2],w[3])\n",
    "    num_steps_list.append(num_steps)\n",
    "    \n",
    "print(num_steps_list)     \n",
    "print(\"Average number of steps:\", sum(num_steps_list)/len(num_steps_list))\n",
    "print(\"Min number of steps:\", min(num_steps_list)) \n",
    "print(\"Max number of steps:\", max(num_steps_list)) "
   ]
  },
  {
   "cell_type": "code",
   "execution_count": 8,
   "id": "07c9cf90",
   "metadata": {},
   "outputs": [
    {
     "name": "stdout",
     "output_type": "stream",
     "text": [
      "[66, 42, 10000, 56, 10000, 10000, 10000, 67, 116, 58]\n",
      "Average number of steps: 4040.5\n",
      "Min number of steps: 42\n",
      "Max number of steps: 10000\n"
     ]
    }
   ],
   "source": [
    "max_episode_steps = 10000\n",
    "env._max_episode_steps = max_episode_steps # default is 200, override for what ever value desired\n",
    "\n",
    "num_steps_list = []\n",
    "num_iter = 10\n",
    "for _ in range(num_iter):\n",
    "    obs = env.reset()\n",
    "    done = False\n",
    "    num_steps = 0\n",
    "    w = []\n",
    "    w.append(0.030869458970770758)\n",
    "    w.append(-0.8397563206086962)\n",
    "    w.append(0.600522282843988)\n",
    "    w.append(0.3511940878495676)\n",
    "    while not done:\n",
    "        a = action(obs, w)\n",
    "        obs, reward, done, _ = env.step(a) \n",
    "        num_steps += 1\n",
    "    num_steps_list.append(num_steps)\n",
    "    \n",
    "print(num_steps_list)     \n",
    "print(\"Average number of steps:\", sum(num_steps_list)/len(num_steps_list))\n",
    "print(\"Min number of steps:\", min(num_steps_list)) \n",
    "print(\"Max number of steps:\", max(num_steps_list)) "
   ]
  },
  {
   "cell_type": "code",
   "execution_count": null,
   "id": "6a20c4f7",
   "metadata": {},
   "outputs": [],
   "source": []
  },
  {
   "cell_type": "code",
   "execution_count": null,
   "id": "f2ac10fe",
   "metadata": {},
   "outputs": [],
   "source": []
  }
 ],
 "metadata": {
  "kernelspec": {
   "display_name": "Python 3",
   "language": "python",
   "name": "python3"
  },
  "language_info": {
   "codemirror_mode": {
    "name": "ipython",
    "version": 3
   },
   "file_extension": ".py",
   "mimetype": "text/x-python",
   "name": "python",
   "nbconvert_exporter": "python",
   "pygments_lexer": "ipython3",
   "version": "3.8.13"
  }
 },
 "nbformat": 4,
 "nbformat_minor": 5
}
