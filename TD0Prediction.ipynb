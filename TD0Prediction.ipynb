{
 "cells": [
  {
   "cell_type": "markdown",
   "metadata": {},
   "source": [
    "#### Sutton and Barto, Reinforcement Learning 2nd. Edition, page 120.\n",
    "![Sutton and Barto, Reinforcement Learning 2nd. Edition.](./Figures/TD0Prediction.png)"
   ]
  },
  {
   "cell_type": "markdown",
   "metadata": {},
   "source": [
    "Tabular TD(0) for estimating V"
   ]
  },
  {
   "cell_type": "code",
   "execution_count": 1,
   "metadata": {
    "tags": []
   },
   "outputs": [],
   "source": [
    "from rlgridworld.standard_grid import create_standard_grid\n",
    "import numpy as np"
   ]
  },
  {
   "cell_type": "markdown",
   "metadata": {},
   "source": [
    "code to play game and return states visited along with reward"
   ]
  },
  {
   "cell_type": "code",
   "execution_count": 2,
   "metadata": {},
   "outputs": [],
   "source": [
    "def play_game(gw, policy, epsilon ):\n",
    "    # game starting state\n",
    "    state = (0,0) \n",
    "    # list of tuples that are (state, reward) pairs\n",
    "#    states_and_rewards = [(state,0)] # list of tuples that are (state, reward) pairs\n",
    "    states_and_rewards = []\n",
    "    converged = False\n",
    "    while not converged:\n",
    "        # get action from policy\n",
    "        action = policy[state] # get action from policy\n",
    "        # get all valid actions at state\n",
    "        all_actions = gw.valid_decisions(state) \n",
    "        # choose a random action with probability epsilon\n",
    "        action = random_action(action, all_actions, epsilon) \n",
    "        # find reward for the action\n",
    "        reward = gw.get_reward_for_action(state, action)\n",
    "        # new state\n",
    "        stateprime = move(state,action)\n",
    "        # add new state and reward to the list\n",
    "        states_and_rewards.append((stateprime,reward))\n",
    "        # if you have moved to a terminal state, then stop\n",
    "        if gw.is_terminal(stateprime):\n",
    "            converged = True\n",
    "        # update state to new state\n",
    "        state = stateprime\n",
    "    return states_and_rewards\n",
    "\n",
    "def move(state, action): # only valid actions at states are sent to move\n",
    "    i,j = state\n",
    "    if action == 'left':\n",
    "        j = j-1\n",
    "    if action == 'right':\n",
    "        j = j+1\n",
    "    if action == 'down':\n",
    "        i = i-1\n",
    "    if action == 'up':\n",
    "        i = i+1\n",
    "    return (i,j)\n",
    "\n",
    "def random_action(action, all_actions, epsilon ):\n",
    "    p = np.random.random_sample()\n",
    "    if p < (1 - epsilon):\n",
    "        return action\n",
    "    else:\n",
    "        return np.random.choice(all_actions)"
   ]
  },
  {
   "cell_type": "markdown",
   "metadata": {},
   "source": [
    "Create standard grid - with probability 0.1 choose off policy"
   ]
  },
  {
   "cell_type": "code",
   "execution_count": 3,
   "metadata": {},
   "outputs": [],
   "source": [
    "gw = create_standard_grid()\n",
    "policy = { \n",
    "        (0,0):'up', (0,1):'right', (0,2):'right', (0,3):'up', \n",
    "        (1,0):'up', (1,1):'', (1,2):'right', (1,3):'', \n",
    "        (2,0):'right', (2,1):'right', (2,2):'right', (2,3):'' \n",
    "        }\n",
    "gamma = 0.9 # discount factor for future rewards\n",
    "alpha = 0.1 # fraction for value update\n",
    "epsilon = 0.1 # explore/exploit probability of exploration\n",
    "number_play_game = 1000 # number of game play iterations"
   ]
  },
  {
   "cell_type": "markdown",
   "metadata": {},
   "source": [
    "Iteration One - Play the game from beginning to end. The result is stochastic."
   ]
  },
  {
   "cell_type": "code",
   "execution_count": 4,
   "metadata": {},
   "outputs": [],
   "source": [
    "states_and_rewards = play_game(gw, policy, epsilon)"
   ]
  },
  {
   "cell_type": "code",
   "execution_count": 5,
   "metadata": {},
   "outputs": [
    {
     "data": {
      "text/plain": [
       "[((1, 0), 0.0),\n",
       " ((0, 0), 0.0),\n",
       " ((1, 0), 0.0),\n",
       " ((2, 0), 0.0),\n",
       " ((2, 1), 0.0),\n",
       " ((2, 2), 0.0),\n",
       " ((2, 3), 1.0)]"
      ]
     },
     "execution_count": 5,
     "metadata": {},
     "output_type": "execute_result"
    }
   ],
   "source": [
    "states_and_rewards # see the state path and rewards"
   ]
  },
  {
   "cell_type": "code",
   "execution_count": 6,
   "metadata": {},
   "outputs": [
    {
     "name": "stdout",
     "output_type": "stream",
     "text": [
      "-------------------------------------\n",
      "|  Right |  Right |  Right |        |\n",
      "-------------------------------------\n",
      "|     Up |        |  Right |        |\n",
      "-------------------------------------\n",
      "|     Up |  Right |  Right |     Up |\n",
      "-------------------------------------\n"
     ]
    }
   ],
   "source": [
    "gw.print_policy(policy)"
   ]
  },
  {
   "cell_type": "markdown",
   "metadata": {},
   "source": [
    "Update values using TD(0)"
   ]
  },
  {
   "cell_type": "code",
   "execution_count": 7,
   "metadata": {},
   "outputs": [],
   "source": [
    "for t in range(len(states_and_rewards) - 1 ):\n",
    "    state, _ = states_and_rewards[t]\n",
    "    stateprime, reward = states_and_rewards[t+1]\n",
    "    current_value = gw.get_value(state)\n",
    "    dest_value = gw.get_value(stateprime)\n",
    "    new_value = current_value + alpha*(reward + gamma*dest_value - current_value)\n",
    "    gw.set_value(state, new_value)"
   ]
  },
  {
   "cell_type": "code",
   "execution_count": 8,
   "metadata": {},
   "outputs": [
    {
     "name": "stdout",
     "output_type": "stream",
     "text": [
      "-------------------------------------\n",
      "|   0.00 |   0.00 |   0.10 |   0.00 |\n",
      "-------------------------------------\n",
      "|   0.00 |   0.00 |   0.00 |   0.00 |\n",
      "-------------------------------------\n",
      "|   0.00 |   0.00 |   0.00 |   0.00 |\n",
      "-------------------------------------\n"
     ]
    }
   ],
   "source": [
    "gw.print_values()"
   ]
  },
  {
   "cell_type": "markdown",
   "metadata": {},
   "source": [
    "Iteration Two"
   ]
  },
  {
   "cell_type": "code",
   "execution_count": 9,
   "metadata": {},
   "outputs": [],
   "source": [
    "states_and_rewards = play_game(gw, policy, epsilon)"
   ]
  },
  {
   "cell_type": "code",
   "execution_count": 10,
   "metadata": {},
   "outputs": [
    {
     "data": {
      "text/plain": [
       "[((1, 0), 0.0), ((2, 0), 0.0), ((2, 1), 0.0), ((2, 2), 0.0), ((2, 3), 1.0)]"
      ]
     },
     "execution_count": 10,
     "metadata": {},
     "output_type": "execute_result"
    }
   ],
   "source": [
    "states_and_rewards"
   ]
  },
  {
   "cell_type": "markdown",
   "metadata": {},
   "source": [
    "Update values"
   ]
  },
  {
   "cell_type": "code",
   "execution_count": 11,
   "metadata": {},
   "outputs": [],
   "source": [
    "for t in range(len(states_and_rewards) - 1 ):\n",
    "    state, _ = states_and_rewards[t]\n",
    "    stateprime, reward = states_and_rewards[t+1]\n",
    "    current_value = gw.get_value(state)\n",
    "    dest_value = gw.get_value(stateprime)\n",
    "    new_value = current_value + alpha*(reward + gamma*dest_value - current_value)\n",
    "    gw.set_value(state, new_value)"
   ]
  },
  {
   "cell_type": "code",
   "execution_count": 12,
   "metadata": {},
   "outputs": [
    {
     "name": "stdout",
     "output_type": "stream",
     "text": [
      "-------------------------------------\n",
      "|   0.00 |   0.01 |   0.19 |   0.00 |\n",
      "-------------------------------------\n",
      "|   0.00 |   0.00 |   0.00 |   0.00 |\n",
      "-------------------------------------\n",
      "|   0.00 |   0.00 |   0.00 |   0.00 |\n",
      "-------------------------------------\n"
     ]
    }
   ],
   "source": [
    "gw.print_values()"
   ]
  },
  {
   "cell_type": "markdown",
   "metadata": {},
   "source": [
    "Play the game 1000 times"
   ]
  },
  {
   "cell_type": "code",
   "execution_count": 13,
   "metadata": {},
   "outputs": [],
   "source": [
    "for _ in range(number_play_game):\n",
    "    states_and_rewards = play_game(gw, policy, epsilon)\n",
    "    for t in range(len(states_and_rewards) - 1 ):\n",
    "        state, _ = states_and_rewards[t]\n",
    "        stateprime, reward = states_and_rewards[t+1]\n",
    "        current_value = gw.get_value(state)\n",
    "        dest_value = gw.get_value(stateprime)\n",
    "        new_value = current_value + alpha*(reward + gamma*dest_value - current_value)\n",
    "        gw.set_value(state, new_value)"
   ]
  },
  {
   "cell_type": "code",
   "execution_count": 14,
   "metadata": {},
   "outputs": [
    {
     "name": "stdout",
     "output_type": "stream",
     "text": [
      "Policy\n",
      "-------------------------------------\n",
      "|  Right |  Right |  Right |        |\n",
      "-------------------------------------\n",
      "|     Up |        |  Right |        |\n",
      "-------------------------------------\n",
      "|     Up |  Right |  Right |     Up |\n",
      "-------------------------------------\n",
      "\n",
      "Values from TD(0) Learning\n",
      "-------------------------------------\n",
      "|   0.76 |   0.84 |   0.97 |   0.00 |\n",
      "-------------------------------------\n",
      "|   0.69 |   0.00 |  -0.86 |   0.00 |\n",
      "-------------------------------------\n",
      "|   0.59 |  -0.54 |  -0.82 |  -0.93 |\n",
      "-------------------------------------\n"
     ]
    }
   ],
   "source": [
    "print(\"Policy\")\n",
    "gw.print_policy(policy)\n",
    "print(\"\")\n",
    "# Print values from TD Learning\n",
    "print(\"Values from TD(0) Learning\")\n",
    "gw.print_values()"
   ]
  },
  {
   "cell_type": "code",
   "execution_count": null,
   "metadata": {},
   "outputs": [],
   "source": []
  }
 ],
 "metadata": {
  "kernelspec": {
   "display_name": "Python 3",
   "language": "python",
   "name": "python3"
  },
  "language_info": {
   "codemirror_mode": {
    "name": "ipython",
    "version": 3
   },
   "file_extension": ".py",
   "mimetype": "text/x-python",
   "name": "python",
   "nbconvert_exporter": "python",
   "pygments_lexer": "ipython3",
   "version": "3.8.13"
  }
 },
 "nbformat": 4,
 "nbformat_minor": 4
}
