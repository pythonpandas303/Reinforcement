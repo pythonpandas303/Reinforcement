{
 "cells": [
  {
   "cell_type": "markdown",
   "id": "641b9d8e",
   "metadata": {},
   "source": [
    "# OpenAI Gym CartPole Environment"
   ]
  },
  {
   "cell_type": "code",
   "execution_count": 1,
   "id": "806d8556",
   "metadata": {},
   "outputs": [
    {
     "data": {
      "text/plain": [
       "array([ 0.01813606,  0.02695395, -0.02831059,  0.01431344], dtype=float32)"
      ]
     },
     "execution_count": 1,
     "metadata": {},
     "output_type": "execute_result"
    }
   ],
   "source": [
    "import random\n",
    "random.seed() # pseudo random number generator seed - here it is None\n",
    "# random.seed(1234) # pseudo random number generator seed - set value for repeatable pseudo random numbers\n",
    "import gym\n",
    "env = gym.make('CartPole-v0')\n",
    "env.reset()"
   ]
  },
  {
   "cell_type": "markdown",
   "id": "78db6e8f",
   "metadata": {},
   "source": [
    "#### Implement a Random Polilcy"
   ]
  },
  {
   "cell_type": "code",
   "execution_count": 2,
   "id": "918e565d",
   "metadata": {
    "tags": []
   },
   "outputs": [
    {
     "name": "stdout",
     "output_type": "stream",
     "text": [
      "[37, 19, 30, 18, 21, 12, 56, 38, 41, 11, 12, 12, 31, 28, 14, 18, 12, 19, 19, 26, 25, 16, 24, 10, 19, 28, 25, 10, 11, 19, 27, 11, 10, 10, 15, 20, 37, 26, 15, 12, 21, 26, 20, 20, 10, 23, 25, 55, 13, 21, 13, 12, 12, 34, 11, 15, 19, 24, 27, 21, 16, 13, 20, 41, 18, 38, 31, 20, 20, 13, 13, 26, 16, 17, 20, 69, 20, 16, 40, 14, 14, 43, 16, 22, 68, 40, 24, 34, 29, 19, 29, 11, 18, 14, 20, 17, 13, 12, 20, 14]\n",
      "Average number of steps: 22.24\n",
      "Min number of steps: 10\n",
      "Max number of steps: 69\n"
     ]
    }
   ],
   "source": [
    "env._max_episode_steps = 200 # default 200, override for what ever value desired\n",
    "num_iter = 100\n",
    "\n",
    "num_steps_list = []\n",
    "\n",
    "for j in range(num_iter):\n",
    "    obs = env.reset()\n",
    "    done = False\n",
    "    num_steps = 0\n",
    "    while not done:\n",
    "        a = random.randint(0,1)\n",
    "        obs, reward, done, _ = env.step(a) \n",
    "        num_steps += 1\n",
    "    num_steps_list.append(num_steps)     \n",
    "print(num_steps_list)     \n",
    "print(\"Average number of steps:\", sum(num_steps_list)/len(num_steps_list))\n",
    "print(\"Min number of steps:\", min(num_steps_list)) \n",
    "print(\"Max number of steps:\", max(num_steps_list))"
   ]
  },
  {
   "cell_type": "markdown",
   "id": "1c21da30",
   "metadata": {},
   "source": [
    "#### Implement a policy that alternatiely moves left and right using modulus function"
   ]
  },
  {
   "cell_type": "code",
   "execution_count": 3,
   "id": "4cb9eb1a",
   "metadata": {
    "tags": []
   },
   "outputs": [
    {
     "name": "stdout",
     "output_type": "stream",
     "text": [
      "[20, 37, 53, 28, 61, 31, 34, 34, 24, 24, 32, 83, 40, 64, 53, 60, 38, 53, 57, 56, 44, 33, 31, 85, 68, 39, 29, 55, 22, 31, 24, 54, 28, 45, 48, 69, 22, 28, 29, 47, 32, 29, 28, 32, 35, 66, 38, 26, 37, 32, 46, 44, 45, 44, 27, 50, 26, 22, 73, 45, 50, 23, 26, 45, 22, 49, 53, 27, 72, 28, 52, 28, 35, 38, 49, 34, 62, 34, 32, 94, 26, 23, 35, 39, 22, 44, 44, 28, 36, 27, 28, 31, 33, 25, 20, 46, 41, 47, 65, 65]\n",
      "Average number of steps: 40.68\n",
      "Min number of steps: 20\n",
      "Max number of steps: 94\n"
     ]
    }
   ],
   "source": [
    "env._max_episode_steps = 200 # default 200, override for what ever value desired\n",
    "num_iter = 100\n",
    "\n",
    "num_steps_list = []\n",
    "\n",
    "for _ in range(num_iter):\n",
    "    obs = env.reset()\n",
    "    done = False\n",
    "    num_steps = 0\n",
    "    while not done:\n",
    "        a = num_steps%2\n",
    "        obs, reward, done, _ = env.step(a) \n",
    "        num_steps += 1\n",
    "    num_steps_list.append(num_steps)\n",
    "        \n",
    "print(num_steps_list)     \n",
    "print(\"Average number of steps:\", sum(num_steps_list)/len(num_steps_list))\n",
    "print(\"Min number of steps:\", min(num_steps_list)) \n",
    "print(\"Max number of steps:\", max(num_steps_list))   "
   ]
  },
  {
   "cell_type": "markdown",
   "id": "c31eaa10",
   "metadata": {},
   "source": [
    "Let $a(s,w)$ be the action to take at state $s$. Let $w$ be a four-dimensional vector of random numbers. The inner product of $s$ with $w$ defines action as follows. If the inner produce is greater than 0 then action 1 otherwise action 0. \n",
    "\n",
    "$$\n",
    "a(s,w) = \\left\\{ \n",
    "    \\begin{array}{ll}\n",
    "    0 & \\textsf{\\small if } s \\cdot w \\leq 0 \\\\ \n",
    "    1 & \\textsf{\\small if } s \\cdot w > 0\n",
    "    \\end{array}\n",
    "\\right.\n",
    "$$ \n",
    "\n",
    "Below is the implementation of this function."
   ]
  },
  {
   "cell_type": "code",
   "execution_count": 4,
   "id": "94c39a5e",
   "metadata": {},
   "outputs": [],
   "source": [
    "def action(s, w):\n",
    "    if s.dot(w) > 0:\n",
    "        return 1\n",
    "    else:\n",
    "        return 0\n",
    "    \n",
    "# this function returns a random parameter vector     \n",
    "def get_params(): # generate four random numbers on the interval [-1.0, 1.0)\n",
    "    w = [2*random.random()-1, 2*random.random()-1, 2*random.random()-1, 2*random.random()-1]\n",
    "    return w"
   ]
  },
  {
   "cell_type": "markdown",
   "id": "f8a8ed7f",
   "metadata": {},
   "source": [
    "#### Implement the dot product with random weights policy"
   ]
  },
  {
   "cell_type": "code",
   "execution_count": 6,
   "id": "af0dfa0c",
   "metadata": {
    "tags": []
   },
   "outputs": [
    {
     "name": "stdout",
     "output_type": "stream",
     "text": [
      "0.04814965094523527 0.03671377106868534 0.8270733866973932 0.5319490782245022\n",
      "0.1436374757518355 0.08814317801772864 0.954161819192205 0.13076375838719922\n",
      "0.10015991036985095 0.009146835507362727 0.6212925278594921 0.5836724634510635\n",
      "-0.002143532979704821 0.37956897729197525 0.3378890795167955 0.6537745493413509\n",
      "0.18344950260728 -0.011003746381929913 0.607107442350741 0.5137142112439994\n",
      "[60, 8, 9, 9, 2500, 67, 27, 201, 56, 135, 12, 9, 9, 59, 35, 108, 257, 9, 8, 10, 8, 9, 9, 9, 2500, 138, 8, 10, 57, 10, 9, 2500, 10, 9, 24, 10, 25, 21, 40, 2500, 33, 10, 10, 129, 32, 10, 416, 8, 9, 42, 9, 41, 9, 270, 10, 8, 10, 10, 85, 9, 10, 8, 8, 10, 9, 40, 10, 54, 10, 9, 373, 88, 109, 9, 109, 8, 30, 41, 10, 30, 38, 89, 2500, 149, 10, 36, 8, 133, 10, 8, 77, 10, 9, 11, 10, 9, 54, 10, 10, 50]\n",
      "Average number of steps: 168.6\n",
      "Min number of steps: 8\n",
      "Max number of steps: 2500\n"
     ]
    }
   ],
   "source": [
    "max_episode_steps = 2500\n",
    "env._max_episode_steps = max_episode_steps # default is 200, override for what ever value desired\n",
    "\n",
    "num_steps_list = []\n",
    "\n",
    "num_iter = 100\n",
    "for _ in range(num_iter):\n",
    "    obs = env.reset()\n",
    "    done = False\n",
    "    num_steps = 0\n",
    "    w = get_params()\n",
    "    while not done:\n",
    "        a = action(obs, w)\n",
    "        obs, reward, done, _ = env.step(a) \n",
    "        num_steps += 1\n",
    "        if num_steps == max_episode_steps:\n",
    "            print(w[0],w[1],w[2],w[3])\n",
    "    num_steps_list.append(num_steps)\n",
    "    \n",
    "print(num_steps_list)     \n",
    "print(\"Average number of steps:\", sum(num_steps_list)/len(num_steps_list))\n",
    "print(\"Min number of steps:\", min(num_steps_list)) \n",
    "print(\"Max number of steps:\", max(num_steps_list)) "
   ]
  },
  {
   "cell_type": "code",
   "execution_count": null,
   "id": "6a20c4f7",
   "metadata": {},
   "outputs": [],
   "source": []
  }
 ],
 "metadata": {
  "kernelspec": {
   "display_name": "Python 3",
   "language": "python",
   "name": "python3"
  },
  "language_info": {
   "codemirror_mode": {
    "name": "ipython",
    "version": 3
   },
   "file_extension": ".py",
   "mimetype": "text/x-python",
   "name": "python",
   "nbconvert_exporter": "python",
   "pygments_lexer": "ipython3",
   "version": "3.8.13"
  }
 },
 "nbformat": 4,
 "nbformat_minor": 5
}
