{
 "cells": [
  {
   "cell_type": "markdown",
   "metadata": {},
   "source": [
    "#### Sutton and Barto, Reinforcement Learning 2nd. Edition, page 80.\n",
    "![Sutton and Barto, Reinforcement Learning 2nd. Edition.](./Figures/PolicyIteration.png)"
   ]
  },
  {
   "cell_type": "markdown",
   "metadata": {},
   "source": [
    "Policy Iteration for estimating π\n",
    "\n",
    "**Policy Iteration**\n",
    "\n",
    "In iterative policy evaluation the values for a fixed policy are used.  Once these values have been determined we can then examine the rewards and values at destination states to determine if there is a better policy.  *Policy Iteration* is the resulting algorithm. \n",
    "\n",
    "This calculation is repeated until the policy does not change.\n",
    "\n",
    "**Policy Iteration Algorithm**\n",
    "```python\n",
    "Given a policy\n",
    "while not converged:\n",
    "    compute values using iterative policy evaluation\n",
    "    compute new policy from values\n",
    "```"
   ]
  },
  {
   "cell_type": "code",
   "execution_count": 1,
   "metadata": {},
   "outputs": [],
   "source": [
    "from rlgridworld.standard_grid import create_standard_grid\n",
    "from rlgridworld.algorithms import iterative_policy_evaluation\n",
    "from rlgridworld.algorithms import compute_policy_from_values"
   ]
  },
  {
   "cell_type": "code",
   "execution_count": 2,
   "metadata": {},
   "outputs": [],
   "source": [
    "gw = create_standard_grid()"
   ]
  },
  {
   "cell_type": "code",
   "execution_count": 3,
   "metadata": {},
   "outputs": [],
   "source": [
    "policy = { \n",
    "    (0,0):'up', (0,1):'right',(0,2):'right',(0,3):'up',\n",
    "    (1,0):'up', (1,1):'', (1,2):'right', (1,3):'',\n",
    "    (2,0):'right', (2,1):'right', (2,2):'right', (2,3):''\n",
    "    }"
   ]
  },
  {
   "cell_type": "code",
   "execution_count": 4,
   "metadata": {},
   "outputs": [],
   "source": [
    "# from page 80 of Sutton and Barto, RL, 2nd. Ed.\n",
    "def policy_iteration(gw, policy, gamma=0.9, epsilon=0.001):\n",
    "    while True:\n",
    "        # perform iterative policy evaluation to update values\n",
    "        iterative_policy_evaluation(gw, policy, gamma, epsilon)\n",
    "        # update policy from new values\n",
    "        new_policy = compute_policy_from_values(gw, gamma)\n",
    "        # see if policy has changed\n",
    "        for action in policy:\n",
    "            if policy[action] == new_policy[action]:\n",
    "                policy_stable = True\n",
    "            else:\n",
    "                policy_stable = False\n",
    "                break\n",
    "        # update policy\n",
    "        policy = new_policy\n",
    "        # repeat until policy does not change\n",
    "        if policy_stable == True:\n",
    "            break"
   ]
  },
  {
   "cell_type": "code",
   "execution_count": 5,
   "metadata": {},
   "outputs": [
    {
     "name": "stdout",
     "output_type": "stream",
     "text": [
      "\n",
      "Initial Policy\n",
      "-------------------------------------\n",
      "|  Right |  Right |  Right |        |\n",
      "-------------------------------------\n",
      "|     Up |        |  Right |        |\n",
      "-------------------------------------\n",
      "|     Up |  Right |  Right |     Up |\n",
      "-------------------------------------\n",
      "\n",
      "Initial Policy Values\n",
      "-------------------------------------\n",
      "|   0.81 |   0.90 |   1.00 |   0.00 |\n",
      "-------------------------------------\n",
      "|   0.73 |   0.00 |  -1.00 |   0.00 |\n",
      "-------------------------------------\n",
      "|   0.66 |  -0.81 |  -0.90 |  -1.00 |\n",
      "-------------------------------------\n",
      "\n",
      "New Policy\n",
      "-------------------------------------\n",
      "|  Right |  Right |  Right |        |\n",
      "-------------------------------------\n",
      "|     Up |        |     Up |        |\n",
      "-------------------------------------\n",
      "|  Right |  Right |     Up |   Left |\n",
      "-------------------------------------\n",
      "\n",
      "New Policy Values\n",
      "-------------------------------------\n",
      "|   0.81 |   0.90 |   1.00 |   0.00 |\n",
      "-------------------------------------\n",
      "|   0.73 |   0.00 |   0.90 |   0.00 |\n",
      "-------------------------------------\n",
      "|   0.66 |   0.73 |   0.81 |   0.73 |\n",
      "-------------------------------------\n",
      "\n"
     ]
    }
   ],
   "source": [
    "print(\"\")\n",
    "print(\"Initial Policy\")\n",
    "gw.print_policy(policy)\n",
    "print(\"\")\n",
    "\n",
    "# note: this execution of iterative policy evaluation is not part \n",
    "# of the policy iteration algorithm.  It is for the purpose of \n",
    "# displaying the values associated with the input policy\n",
    "\n",
    "iterative_policy_evaluation(gw, policy)\n",
    "print(\"Initial Policy Values\")\n",
    "gw.print_values()\n",
    "\n",
    "# run policy iteration algorithm\n",
    "policy_iteration(gw, policy)\n",
    "# compute policy from optimal values\n",
    "new_policy = compute_policy_from_values(gw)\n",
    "\n",
    "# print new policy and values\n",
    "print(\"\") \n",
    "print(\"New Policy\")\n",
    "gw.print_policy(new_policy)\n",
    "print(\"\")\n",
    "print(\"New Policy Values\")\n",
    "gw.print_values()\n",
    "print(\"\")"
   ]
  },
  {
   "cell_type": "code",
   "execution_count": null,
   "metadata": {},
   "outputs": [],
   "source": []
  }
 ],
 "metadata": {
  "kernelspec": {
   "display_name": "Python 3",
   "language": "python",
   "name": "python3"
  },
  "language_info": {
   "codemirror_mode": {
    "name": "ipython",
    "version": 3
   },
   "file_extension": ".py",
   "mimetype": "text/x-python",
   "name": "python",
   "nbconvert_exporter": "python",
   "pygments_lexer": "ipython3",
   "version": "3.8.12"
  }
 },
 "nbformat": 4,
 "nbformat_minor": 4
}
